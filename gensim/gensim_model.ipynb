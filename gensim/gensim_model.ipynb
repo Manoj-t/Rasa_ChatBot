{
 "cells": [
  {
   "cell_type": "code",
   "execution_count": 1,
   "metadata": {},
   "outputs": [
    {
     "name": "stderr",
     "output_type": "stream",
     "text": [
      "F:\\Soft\\Anaconda\\envs\\tensorflow\\lib\\site-packages\\gensim\\utils.py:1197: UserWarning: detected Windows; aliasing chunkize to chunkize_serial\n",
      "  warnings.warn(\"detected Windows; aliasing chunkize to chunkize_serial\")\n"
     ]
    }
   ],
   "source": [
    "import gensim\n",
    "from gensim.models.fasttext import FastText\n",
    "import pandas as pd"
   ]
  },
  {
   "cell_type": "code",
   "execution_count": 2,
   "metadata": {},
   "outputs": [],
   "source": [
    "col=['col1','col2','col3','col4','col5','col6']\n",
    "data= pd.read_csv(\"data.csv\",encoding = \"ISO-8859-1\", header=None, names=col)"
   ]
  },
  {
   "cell_type": "code",
   "execution_count": 3,
   "metadata": {
    "scrolled": true
   },
   "outputs": [
    {
     "data": {
      "text/plain": [
       "<bound method NDFrame.head of                                                      col2\n",
       "0                                                question\n",
       "1               What was the amount of children murdered?\n",
       "2                          Where was one employee killed?\n",
       "3       who did say South Africa did not issue a visa ...\n",
       "4                 How many years old was the businessman?\n",
       "5                           What frightened the families?\n",
       "6                         what Pope used to beat himself?\n",
       "7                                          Who is hiring?\n",
       "8             What war was the Iwo Jima battle a part of?\n",
       "9                                    Iran criticizes who?\n",
       "10                                    Who is Radu Mazare?\n",
       "11                   How many followers does Rupert have?\n",
       "12                         What is the HBO series called?\n",
       "13                         How many flights were affects?\n",
       "14                  What does Designer Isabel Toledo say?\n",
       "15                                   when does paul died?\n",
       "16                     What did the French president say?\n",
       "17                                 What was he guilty of?\n",
       "18                           What are the activities for?\n",
       "19                          What requires unified action?\n",
       "20                            What has Hleb chosen to do?\n",
       "21                          What are suspects blamed for?\n",
       "22                                what did nigeria become\n",
       "23                                    What did she argue?\n",
       "24                           How many boxes were donated?\n",
       "25                    Who is the President of Kyrgyzstan?\n",
       "26                            What did Frank Jackson say?\n",
       "27                    What name does the girl respond to?\n",
       "28      Highlights Anil Dash says Internet was designe...\n",
       "29                             Who is appearing in court?\n",
       "...                                                   ...\n",
       "119604                                  what confirm FIA?\n",
       "119605                              how long was the trip\n",
       "119606   What did Bono say he was punching the air about?\n",
       "119607        What does reduce the risk of HPV infection?\n",
       "119608                    Where did the study take place?\n",
       "119609                              many deaths had total\n",
       "119610       What did the Iranians say about missing man?\n",
       "119611                               What did Oneill say?\n",
       "119612                              What were the charges\n",
       "119613         What was the model meant to coincide with?\n",
       "119614              Graham presented Obama with two what?\n",
       "119615                    When are the games in Calcutta?\n",
       "119616                                  who was convicted\n",
       "119617          What did the video message coincide with?\n",
       "119618                        how long are rattan sticks?\n",
       "119619                             to where did he return\n",
       "119620                                who noticed the bag\n",
       "119621    What Pakistani leader has reached out to India?\n",
       "119622     How much did Wolverine take at the box office?\n",
       "119623                    What is the Somali group doing?\n",
       "119624                             What did she tell CNN?\n",
       "119625                      what is the biggest challenge\n",
       "119626                                    What says Kate?\n",
       "119627             what does Soufan's book argue against?\n",
       "119628                 what is this pattern is all about?\n",
       "119629             \"Emanuel,\" was intended for Obama aide\n",
       "119630  is toyota under fire issues on sticking gas pe...\n",
       "119631                what are the men being detained for\n",
       "119632  In what year didIvory Coast exit in group stag...\n",
       "119633                            Where was Jackson born?\n",
       "\n",
       "[119634 rows x 1 columns]>"
      ]
     },
     "execution_count": 3,
     "metadata": {},
     "output_type": "execute_result"
    }
   ],
   "source": [
    "data.drop(['col1','col3','col4','col5','col6'],axis=1,inplace=True)\n",
    "data.head"
   ]
  },
  {
   "cell_type": "code",
   "execution_count": 4,
   "metadata": {},
   "outputs": [
    {
     "name": "stdout",
     "output_type": "stream",
     "text": [
      "0                                                  question\n",
      "1                 What was the amount of children murdered?\n",
      "2                            Where was one employee killed?\n",
      "3         who did say South Africa did not issue a visa ...\n",
      "4                   How many years old was the businessman?\n",
      "5                             What frightened the families?\n",
      "6                           what Pope used to beat himself?\n",
      "7                                            Who is hiring?\n",
      "8               What war was the Iwo Jima battle a part of?\n",
      "9                                      Iran criticizes who?\n",
      "10                                      Who is Radu Mazare?\n",
      "11                     How many followers does Rupert have?\n",
      "12                           What is the HBO series called?\n",
      "13                           How many flights were affects?\n",
      "14                    What does Designer Isabel Toledo say?\n",
      "15                                     when does paul died?\n",
      "16                       What did the French president say?\n",
      "17                                   What was he guilty of?\n",
      "18                             What are the activities for?\n",
      "19                            What requires unified action?\n",
      "20                              What has Hleb chosen to do?\n",
      "21                            What are suspects blamed for?\n",
      "22                                  what did nigeria become\n",
      "23                                      What did she argue?\n",
      "24                             How many boxes were donated?\n",
      "25                      Who is the President of Kyrgyzstan?\n",
      "26                              What did Frank Jackson say?\n",
      "27                      What name does the girl respond to?\n",
      "28        Highlights Anil Dash says Internet was designe...\n",
      "29                               Who is appearing in court?\n",
      "                                ...                        \n",
      "119604                                    what confirm FIA?\n",
      "119605                                how long was the trip\n",
      "119606     What did Bono say he was punching the air about?\n",
      "119607          What does reduce the risk of HPV infection?\n",
      "119608                      Where did the study take place?\n",
      "119609                                many deaths had total\n",
      "119610         What did the Iranians say about missing man?\n",
      "119611                                 What did Oneill say?\n",
      "119612                                What were the charges\n",
      "119613           What was the model meant to coincide with?\n",
      "119614                Graham presented Obama with two what?\n",
      "119615                      When are the games in Calcutta?\n",
      "119616                                    who was convicted\n",
      "119617            What did the video message coincide with?\n",
      "119618                          how long are rattan sticks?\n",
      "119619                               to where did he return\n",
      "119620                                  who noticed the bag\n",
      "119621      What Pakistani leader has reached out to India?\n",
      "119622       How much did Wolverine take at the box office?\n",
      "119623                      What is the Somali group doing?\n",
      "119624                               What did she tell CNN?\n",
      "119625                        what is the biggest challenge\n",
      "119626                                      What says Kate?\n",
      "119627               what does Soufan's book argue against?\n",
      "119628                   what is this pattern is all about?\n",
      "119629               \"Emanuel,\" was intended for Obama aide\n",
      "119630    is toyota under fire issues on sticking gas pe...\n",
      "119631                  what are the men being detained for\n",
      "119632    In what year didIvory Coast exit in group stag...\n",
      "119633                              Where was Jackson born?\n",
      "Name: col2, Length: 119634, dtype: object\n"
     ]
    }
   ],
   "source": [
    "print(data['col2'])"
   ]
  },
  {
   "cell_type": "code",
   "execution_count": 5,
   "metadata": {},
   "outputs": [],
   "source": [
    "k=[]\n",
    "for sent in data['col2']:\n",
    "    k.append(sent)"
   ]
  },
  {
   "cell_type": "code",
   "execution_count": 6,
   "metadata": {},
   "outputs": [],
   "source": [
    "import re\n",
    "dat=[]\n",
    "for sen in data['col2']:\n",
    "    wordList = str(sen).split()\n",
    "    dat.append(wordList)"
   ]
  },
  {
   "cell_type": "code",
   "execution_count": 7,
   "metadata": {},
   "outputs": [
    {
     "name": "stdout",
     "output_type": "stream",
     "text": [
      "[['question'], ['What', 'was', 'the', 'amount', 'of', 'children', 'murdered?'], ['Where', 'was', 'one', 'employee', 'killed?'], ['who', 'did', 'say', 'South', 'Africa', 'did', 'not', 'issue', 'a', 'visa', 'on', 'time?'], ['How', 'many', 'years', 'old', 'was', 'the', 'businessman?']]\n"
     ]
    }
   ],
   "source": [
    "print(dat[0:5])"
   ]
  },
  {
   "cell_type": "code",
   "execution_count": 8,
   "metadata": {},
   "outputs": [],
   "source": [
    "model = FastText(dat, size=100, window=5, min_count=1, workers=4)"
   ]
  },
  {
   "cell_type": "code",
   "execution_count": 9,
   "metadata": {},
   "outputs": [
    {
     "name": "stdout",
     "output_type": "stream",
     "text": [
      "[('hich', 0.9659184813499451), ('Which', 0.9478501677513123), ('whioch', 0.9425113201141357), ('Which?', 0.9404647946357727), ('whi', 0.9383378028869629)]\n"
     ]
    }
   ],
   "source": [
    "print(model.wv.most_similar('which', topn=5))"
   ]
  },
  {
   "cell_type": "code",
   "execution_count": 10,
   "metadata": {},
   "outputs": [],
   "source": [
    "model.build_vocab(dat, update=True)"
   ]
  },
  {
   "cell_type": "code",
   "execution_count": null,
   "metadata": {},
   "outputs": [],
   "source": []
  },
  {
   "cell_type": "code",
   "execution_count": 11,
   "metadata": {},
   "outputs": [],
   "source": [
    "model.train(dat, total_examples=len(dat), epochs=10)"
   ]
  },
  {
   "cell_type": "code",
   "execution_count": 17,
   "metadata": {},
   "outputs": [
    {
     "name": "stdout",
     "output_type": "stream",
     "text": [
      "[('whalen', 0.9257444143295288), ('whale', 0.9194493293762207), ('whaht', 0.9193781614303589), ('whai', 0.9176377654075623), ('wha', 0.9103122353553772)]\n"
     ]
    }
   ],
   "source": [
    "print(model.wv.most_similar('whar', topn=5))"
   ]
  },
  {
   "cell_type": "code",
   "execution_count": 23,
   "metadata": {},
   "outputs": [
    {
     "name": "stdout",
     "output_type": "stream",
     "text": [
      "[('Along', 0.940900444984436), ('Qianlong', 0.9311542510986328), ('longe', 0.9210299253463745), ('along', 0.9086795449256897), ('long?', 0.904728889465332)]\n"
     ]
    }
   ],
   "source": [
    "print(model.wv.most_similar('long', topn=5))"
   ]
  },
  {
   "cell_type": "code",
   "execution_count": 18,
   "metadata": {},
   "outputs": [
    {
     "name": "stdout",
     "output_type": "stream",
     "text": [
      "[('wh', 0.9277482032775879), ('whT', 0.9273759722709656), ('whn', 0.9221166372299194), ('whT?', 0.8986095786094666), ('wha', 0.8851311206817627)]\n"
     ]
    }
   ],
   "source": [
    "print(model.wv.most_similar('why', topn=5))"
   ]
  },
  {
   "cell_type": "code",
   "execution_count": 19,
   "metadata": {},
   "outputs": [
    {
     "name": "stdout",
     "output_type": "stream",
     "text": [
      "[('problem,', 0.9937546253204346), ('problem??', 0.9916608929634094), (\"'problem\", 0.9821641445159912), ('problem?', 0.9696550965309143), ('problems', 0.964057207107544)]\n"
     ]
    }
   ],
   "source": [
    "print(model.wv.most_similar('problem', topn=5))"
   ]
  },
  {
   "cell_type": "code",
   "execution_count": 18,
   "metadata": {},
   "outputs": [],
   "source": [
    "import collections"
   ]
  },
  {
   "cell_type": "code",
   "execution_count": null,
   "metadata": {},
   "outputs": [],
   "source": [
    "for sent in dat:\n",
    "    vocab = vocab+collections.Counter(sent)\n",
    "print(vocab)"
   ]
  },
  {
   "cell_type": "code",
   "execution_count": 26,
   "metadata": {},
   "outputs": [
    {
     "name": "stdout",
     "output_type": "stream",
     "text": [
      "Counter({'question': 1})\n"
     ]
    }
   ],
   "source": [
    "print(vocab)"
   ]
  },
  {
   "cell_type": "code",
   "execution_count": 28,
   "metadata": {},
   "outputs": [],
   "source": [
    "vocab = vocab+collections.Counter(dat[1])"
   ]
  },
  {
   "cell_type": "code",
   "execution_count": 29,
   "metadata": {},
   "outputs": [
    {
     "name": "stdout",
     "output_type": "stream",
     "text": [
      "Counter({'question': 1, 'What': 1, 'amount': 1, 'children': 1, 'of': 1, 'was': 1, 'the': 1, 'murdered?': 1})\n"
     ]
    }
   ],
   "source": [
    "print(vocab)"
   ]
  },
  {
   "cell_type": "code",
   "execution_count": null,
   "metadata": {},
   "outputs": [],
   "source": []
  }
 ],
 "metadata": {
  "kernelspec": {
   "display_name": "Python 3",
   "language": "python",
   "name": "python3"
  },
  "language_info": {
   "codemirror_mode": {
    "name": "ipython",
    "version": 3
   },
   "file_extension": ".py",
   "mimetype": "text/x-python",
   "name": "python",
   "nbconvert_exporter": "python",
   "pygments_lexer": "ipython3",
   "version": "3.5.6"
  }
 },
 "nbformat": 4,
 "nbformat_minor": 2
}
